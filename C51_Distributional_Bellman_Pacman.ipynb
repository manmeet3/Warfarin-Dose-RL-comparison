{
 "cells": [
  {
   "cell_type": "code",
   "execution_count": 1,
   "metadata": {},
   "outputs": [],
   "source": [
    "import matplotlib\n",
    "# matplotlib.use('TkAgg')\n",
    "import matplotlib.pyplot as plt\n",
    "import tensorflow as tf\n",
    "from gym import wrappers\n",
    "import gym\n",
    "import numpy as np\n",
    "import pickle\n",
    "from config import C51DQNConfig\n",
    "from c51 import C51DQN\n",
    "import random\n",
    "from IPython import display as ipythondisplay\n",
    "from pyvirtualdisplay import Display"
   ]
  },
  {
   "cell_type": "code",
   "execution_count": 2,
   "metadata": {},
   "outputs": [
    {
     "name": "stdout",
     "output_type": "stream",
     "text": [
      "1.15.0\n"
     ]
    }
   ],
   "source": [
    "print(tf.__version__)"
   ]
  },
  {
   "cell_type": "code",
   "execution_count": 3,
   "metadata": {},
   "outputs": [],
   "source": [
    "def map_scores(dqfd_scores=None, ddqn_scores=None, xlabel=None, ylabel=None):\n",
    "    if dqfd_scores is not None:\n",
    "        plt.plot(dqfd_scores, 'r')\n",
    "    if ddqn_scores is not None:\n",
    "        plt.plot(ddqn_scores, 'b')\n",
    "    if xlabel is not None:\n",
    "        plt.xlabel(xlabel)\n",
    "    if ylabel is not None:\n",
    "        plt.ylabel(ylabel)\n",
    "    plt.show()"
   ]
  },
  {
   "cell_type": "code",
   "execution_count": 4,
   "metadata": {},
   "outputs": [],
   "source": [
    "def Pacman_C51DQN(index, env):\n",
    "    with tf.variable_scope('DQfD_' + str(index)):\n",
    "        agent = C51DQN(env, C51DQNConfig())\n",
    "    scores = []\n",
    "    for e in range(C51DQNConfig.episode):\n",
    "        done = False\n",
    "        score = 0  # sum of reward in one episode\n",
    "        state = env.reset()\n",
    "        # while done is False:\n",
    "        last_lives = 1 # minimum lives needed to keep playing\n",
    "        #throw = True # don't need throw -- just take an action\n",
    "        items_buffer = []\n",
    "        while not done:\n",
    "            # Render screen in notebook\n",
    "            screen = env.render(mode='rgb_array')\n",
    "            plt.imshow(screen)\n",
    "            ipythondisplay.clear_output(wait=True)\n",
    "            ipythondisplay.display(plt.gcf())\n",
    "            \n",
    "            action = agent.greedy_action(state)\n",
    "            print ('action:', action)\n",
    "            next_state, real_reward, done, info = env.step(action)\n",
    "            lives = info['ale.lives']\n",
    "            train_reward = -1 if lives < last_lives else real_reward # give a -1 reward if agent actions lost a life\n",
    "            score += real_reward\n",
    "            print('real_reward: ', real_reward)\n",
    "            print('train_reward: ', train_reward)\n",
    "            print('score: ', score)\n",
    "            #throw = lives < last_lives\n",
    "            last_lives = lives\n",
    "            # agent.train(state, train_reward, [action], next_state, 0.1)\n",
    "            items_buffer.append([state, [action], next_state, 0.1])\n",
    "            state = next_state\n",
    "            if train_reward != 0:  # train when miss the ball or score or throw the ball in the beginning\n",
    "                print ('len(items_buffer):', len(items_buffer))\n",
    "                for item in items_buffer:\n",
    "                    agent.train(item[0], train_reward, item[1], item[2], item[3])\n",
    "                items_buffer = []\n",
    "        scores.append(score)\n",
    "        print (\"episode:\", e, \"  score:\", score)\n",
    "        agent.save_model()\n",
    "        # if np.mean(scores[-min(10, len(scores)):]) > 495:\n",
    "        #     break\n",
    "    return scores"
   ]
  },
  {
   "cell_type": "code",
   "execution_count": null,
   "metadata": {},
   "outputs": [
    {
     "data": {
      "image/png": "[encoded data removed]",
      "text/plain": [
       "<Figure size 432x288 with 1 Axes>"
      ]
     },
     "metadata": {},
     "output_type": "display_data"
    },
    {
     "name": "stdout",
     "output_type": "stream",
     "text": [
      "self.epsilon:  0.891935939497573\n",
      "action: 4\n",
      "real_reward:  0.0\n",
      "train_reward:  0.0\n",
      "score:  0.0\n"
     ]
    }
   ],
   "source": [
    "env = gym.make('MsPacman-v0')\n",
    "# env = gym.make(NoisyNetDQNConfig.ENV_NAME)\n",
    "# env = wrappers.Monitor(env, '/tmp/CartPole-v0', force=True)\n",
    "C51DQN_sum_scores = np.zeros(C51DQNConfig.episode)\n",
    "for i in range(C51DQNConfig.iteration):\n",
    "    scores = Pacman_C51DQN(i, env)\n",
    "    c51_sum_scores = [a + b for a, b in zip(scores, C51DQN_sum_scores)]\n",
    "C51DQN_mean_scores = C51DQN_sum_scores / C51DQNConfig.iteration\n",
    "with open('./C51DQN_mean_scores.p', 'wb') as f:\n",
    "    pickle.dump(C51DQN_mean_scores, f, protocol=2)"
   ]
  },
  {
   "cell_type": "code",
   "execution_count": null,
   "metadata": {},
   "outputs": [],
   "source": []
  },
  {
   "cell_type": "code",
   "execution_count": null,
   "metadata": {},
   "outputs": [],
   "source": []
  }
 ],
 "metadata": {
  "kernelspec": {
   "display_name": "Python 3",
   "language": "python",
   "name": "python3"
  },
  "language_info": {
   "codemirror_mode": {
    "name": "ipython",
    "version": 3
   },
   "file_extension": ".py",
   "mimetype": "text/x-python",
   "name": "python",
   "nbconvert_exporter": "python",
   "pygments_lexer": "ipython3",
   "version": "3.6.12"
  }
 },
 "nbformat": 4,
 "nbformat_minor": 4
}
